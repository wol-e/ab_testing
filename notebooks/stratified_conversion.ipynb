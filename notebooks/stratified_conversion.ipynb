{
 "cells": [
  {
   "cell_type": "code",
   "execution_count": 1,
   "id": "f22c9d7c-42de-4f29-8aa0-4051c6f07573",
   "metadata": {},
   "outputs": [],
   "source": [
    "from ab_testing.stratification import stratified_ttest, get_stratified_statistics"
   ]
  },
  {
   "cell_type": "code",
   "execution_count": 2,
   "id": "4eaa0c97-6cd1-487f-a5b9-def6cac279fb",
   "metadata": {},
   "outputs": [
    {
     "name": "stdout",
     "output_type": "stream",
     "text": [
      "Help on function stratified_ttest in module ab_testing.stratification:\n",
      "\n",
      "stratified_ttest(base: <built-in function array>, variant: <built-in function array>, strata_base: <built-in function array>, strata_variant: <built-in function array>, weights: Dict, alternative: str = 'two-sided') -> Tuple[float, float]\n",
      "\n"
     ]
    }
   ],
   "source": [
    "help(stratified_ttest)"
   ]
  },
  {
   "cell_type": "code",
   "execution_count": 19,
   "id": "ba321ebe-bc85-44df-abed-b15af30be7e4",
   "metadata": {},
   "outputs": [
    {
     "name": "stderr",
     "output_type": "stream",
     "text": [
      "100%|█████████████████████████████████████| 2000/2000 [00:00<00:00, 2536.26it/s]\n",
      "100%|█████████████████████████████████████| 2000/2000 [00:00<00:00, 3036.92it/s]\n",
      "100%|█████████████████████████████████████| 2000/2000 [00:00<00:00, 3426.63it/s]"
     ]
    },
    {
     "name": "stdout",
     "output_type": "stream",
     "text": [
      "p value without stratification: 0.8800920256451636\n",
      "p value with stratification: 0.0009716210158559058\n"
     ]
    },
    {
     "name": "stderr",
     "output_type": "stream",
     "text": [
      "\n"
     ]
    }
   ],
   "source": [
    "from scipy.stats import bernoulli\n",
    "import numpy as np\n",
    "from tqdm import tqdm\n",
    "\"\"\"\n",
    "\n",
    "\"\"\"\n",
    "\n",
    "def generate_sample(n, base_rate):\n",
    "    base = bernoulli(p=base_rate).rvs(n)\n",
    "    return base\n",
    "\n",
    "def get_dummy_predictions(conversions, true_positive_rate, false_positive_rate):\n",
    "    return np.array([\n",
    "        bernoulli(p=true_positive_rate).rvs(1) if x == 1 else bernoulli(p=false_positive_rate).rvs(1)\n",
    "            for x in tqdm(conversions)\n",
    "    ]).reshape(-1)\n",
    "\n",
    "def generate_lift(conversions, lift):\n",
    "    base_rate = conversions.mean()\n",
    "    needed_delta = len(conversions) * base_rate * lift\n",
    "    bump_rate = needed_delta / (len(conversions) - conversions.sum())\n",
    "    lifted = np.array([bernoulli(p=bump_rate).rvs(1)[0] if x == 0 else 1 for x in tqdm(conversions)])\n",
    "    return lifted\n",
    "\n",
    "\n",
    "def simulate_stratified_test(n, base_rate, lift, tp, fp):\n",
    "    base = generate_sample(n=n, base_rate=base_rate)\n",
    "    preds_base = get_dummy_predictions(base, tp, fp)\n",
    "    variant = generate_sample(n=n, base_rate=base_rate)\n",
    "    preds_variant = get_dummy_predictions(variant, tp, fp)\n",
    "    variant = generate_lift(variant, lift)\n",
    "    weight = preds_base.mean()\n",
    "    weights = {0: 1 - weight, 1: weight}\n",
    "\n",
    "    p, _ = stratified_ttest(base, variant, base * 0, variant * 0, {0: 1})\n",
    "\n",
    "    print(f\"p value without stratification: {p}\")\n",
    "\n",
    "\n",
    "    p_strat, _ = stratified_ttest(\n",
    "        base,\n",
    "        variant,\n",
    "        preds_base,\n",
    "        preds_variant,\n",
    "        weights = weights\n",
    "    )\n",
    "\n",
    "    print(f\"p value with stratification: {p_strat}\")\n",
    "    \n",
    "tp = .99\n",
    "fp = .01\n",
    "lift = .1\n",
    "n=2000\n",
    "base_rate=.1\n",
    "simulate_stratified_test(n, base_rate, lift, tp, fp)"
   ]
  },
  {
   "cell_type": "code",
   "execution_count": 30,
   "id": "096912fa-5950-42b1-90fc-dc6be29e2eaa",
   "metadata": {},
   "outputs": [
    {
     "name": "stderr",
     "output_type": "stream",
     "text": [
      "100%|█████████████████████████████████████| 5000/5000 [00:01<00:00, 3039.00it/s]\n",
      "100%|█████████████████████████████████████| 5000/5000 [00:01<00:00, 3048.28it/s]\n",
      "100%|█████████████████████████████████████| 5000/5000 [00:01<00:00, 4362.17it/s]\n"
     ]
    },
    {
     "name": "stdout",
     "output_type": "stream",
     "text": [
      "p value without stratification: 0.01345825652235244\n",
      "p value with stratification: 1.2777179748457712e-05\n"
     ]
    }
   ],
   "source": [
    "simulate_stratified_test(5000, .3, .05, .9, .01)"
   ]
  },
  {
   "cell_type": "code",
   "execution_count": 41,
   "id": "d0426a41-cc5c-49df-8b31-81f34f3e1087",
   "metadata": {},
   "outputs": [
    {
     "name": "stderr",
     "output_type": "stream",
     "text": [
      "100%|███████████████████████████████████| 10000/10000 [00:03<00:00, 3051.93it/s]\n",
      "100%|███████████████████████████████████| 10000/10000 [00:03<00:00, 3085.89it/s]\n",
      "100%|███████████████████████████████████| 10000/10000 [00:03<00:00, 3177.61it/s]"
     ]
    },
    {
     "name": "stdout",
     "output_type": "stream",
     "text": [
      "p value without stratification: 0.02314888960123862\n",
      "p value with stratification: 0.00922523069489678\n"
     ]
    },
    {
     "name": "stderr",
     "output_type": "stream",
     "text": [
      "\n"
     ]
    }
   ],
   "source": [
    "simulate_stratified_test(10000, .03, .05, .999, .001)"
   ]
  }
 ],
 "metadata": {
  "kernelspec": {
   "display_name": "Python 3 (ipykernel)",
   "language": "python",
   "name": "python3"
  },
  "language_info": {
   "codemirror_mode": {
    "name": "ipython",
    "version": 3
   },
   "file_extension": ".py",
   "mimetype": "text/x-python",
   "name": "python",
   "nbconvert_exporter": "python",
   "pygments_lexer": "ipython3",
   "version": "3.10.6"
  }
 },
 "nbformat": 4,
 "nbformat_minor": 5
}
