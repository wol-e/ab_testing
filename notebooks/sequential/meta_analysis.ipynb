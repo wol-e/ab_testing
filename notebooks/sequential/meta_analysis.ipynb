{
 "cells": [
  {
   "cell_type": "code",
   "execution_count": 7,
   "id": "920df090-9a33-4850-aff9-13192b47db0f",
   "metadata": {},
   "outputs": [],
   "source": [
    "from scipy.stats import ttest_ind\n",
    "\n",
    "from ab_testing.sequential.bonferroni import Bonferroni\n",
    "from ab_testing.synthetic_data.simulate_ab_variants import generate_binomial_variants"
   ]
  },
  {
   "cell_type": "markdown",
   "id": "cb6d4659-9b0a-429e-adc9-32f29dce641a",
   "metadata": {},
   "source": [
    "# Meta Analysis of Sequential Testing Approaches\n",
    "\n",
    "### What we want to do\n",
    "\n",
    "- Analyse false positive rates\n",
    "- Analyse Power\n",
    "- Analyse average runtime\n",
    "    - when null is true\n",
    "    - when alternative is true\n",
    "    \n",
    "**Method**: Based on simulated AB test data we simulate a lot of experiments and analyze them sequentially."
   ]
  },
  {
   "cell_type": "code",
   "execution_count": null,
   "id": "30f889d2-40b2-46c9-9879-058cac2b82c9",
   "metadata": {},
   "outputs": [],
   "source": []
  }
 ],
 "metadata": {
  "kernelspec": {
   "display_name": "Python 3 (ipykernel)",
   "language": "python",
   "name": "python3"
  },
  "language_info": {
   "codemirror_mode": {
    "name": "ipython",
    "version": 3
   },
   "file_extension": ".py",
   "mimetype": "text/x-python",
   "name": "python",
   "nbconvert_exporter": "python",
   "pygments_lexer": "ipython3",
   "version": "3.10.6"
  }
 },
 "nbformat": 4,
 "nbformat_minor": 5
}
