{
 "cells": [
  {
   "cell_type": "code",
   "execution_count": 1,
   "id": "766a049b-fd73-4baf-82aa-05732c76003e",
   "metadata": {},
   "outputs": [],
   "source": [
    "import matplotlib.pyplot as plt\n",
    "import numpy as np\n",
    "import pandas as pd\n",
    "\n",
    "from scipy.stats import norm\n",
    "from tqdm.notebook import tqdm"
   ]
  },
  {
   "cell_type": "code",
   "execution_count": 1,
   "id": "5cd23961-1628-4379-967f-07e222ac928c",
   "metadata": {},
   "outputs": [],
   "source": [
    "#work around all those python directory crazyness in order to access the ab_testing module\n",
    "import os\n",
    "import sys\n",
    "import inspect\n",
    "\n",
    "currentdir = os.path.dirname(os.path.abspath(inspect.getfile(inspect.currentframe())))\n",
    "parentdir = os.path.dirname(currentdir)\n",
    "sys.path.insert(0, parentdir)\n",
    "\n",
    "from ab_testing.stratification.stratification import stratified_ttest, get_stratified_statistics"
   ]
  },
  {
   "cell_type": "markdown",
   "id": "a4b8d9f8-320b-4cb5-aaf7-e2d590fbbccf",
   "metadata": {},
   "source": [
    "# Effect of relaxed stopping rules on fixed horizon tests\n",
    "\n",
    "In this notebook we investigate the following question:\n",
    "\n",
    "When performing a fixed horizon null hypothesis test with relaxed stopping rules (e.g. peeking nd early stopping) what is the effect on the various error rates like false positives, false negatives, sign errors etc."
   ]
  },
  {
   "cell_type": "code",
   "execution_count": 3,
   "id": "6caaa809-f2a1-4344-80f8-09e12820a74d",
   "metadata": {},
   "outputs": [],
   "source": [
    "from decision_rules import (\n",
    "    FixedHorizonDecisionRule,\n",
    "    FixedHorizonDecisionRuleWithPeek,\n",
    "    FixedHorizonDecisionRuleExtend\n",
    ")\n",
    "from simulate import simulate_ab_test_data_binom, ABTestData"
   ]
  },
  {
   "cell_type": "markdown",
   "id": "db22aa21-c8d0-40f5-a619-0449c39e69a8",
   "metadata": {},
   "source": [
    "# simulations"
   ]
  },
  {
   "cell_type": "code",
   "execution_count": 4,
   "id": "7d2e16d6-51e4-48cf-9b6d-184eaee84fe5",
   "metadata": {},
   "outputs": [],
   "source": [
    "from simulate_decisions import simulate_decision_progression"
   ]
  },
  {
   "cell_type": "code",
   "execution_count": 5,
   "id": "803d4c78-0a2a-4a94-97f1-d2de374710fa",
   "metadata": {},
   "outputs": [],
   "source": [
    "\n",
    "def simulate_n_decisions(\n",
    "    decision_rule,\n",
    "    decision_rule_kwargs,\n",
    "    n_ab_tests,\n",
    "    n_samples_per_increment,\n",
    "    n_increments,\n",
    "    mean_a,\n",
    "    mean_b,\n",
    "    plot_title=None\n",
    "):\n",
    "    results = []\n",
    "    \n",
    "    for i in tqdm(range(n_ab_tests)):\n",
    "        results.append(\n",
    "                simulate_decision_progression(\n",
    "                     simulate_ab_test_data_binom(\n",
    "                        n_samples_per_increment=n_samples_per_increment,\n",
    "                        n_increments=n_increments,\n",
    "                        mean_a=mean_a,\n",
    "                        mean_b=mean_b\n",
    "                    ),\n",
    "                    decision_rule, \n",
    "                    **decision_rule_kwargs\n",
    "                )\n",
    "        )\n",
    "\n",
    "    return results"
   ]
  },
  {
   "cell_type": "code",
   "execution_count": 6,
   "id": "82e28377-95f3-4c87-8b33-844522b3bcfb",
   "metadata": {},
   "outputs": [
    {
     "data": {
      "application/vnd.jupyter.widget-view+json": {
       "model_id": "036472743b6e4fa499c98d3b8593b003",
       "version_major": 2,
       "version_minor": 0
      },
      "text/plain": [
       "  0%|          | 0/1000 [00:00<?, ?it/s]"
      ]
     },
     "metadata": {},
     "output_type": "display_data"
    },
    {
     "data": {
      "text/plain": [
       "STOP INCONCLUSIVE    907\n",
       "STOP REJECT NULL      93\n",
       "Name: DECISION, dtype: int64"
      ]
     },
     "execution_count": 6,
     "metadata": {},
     "output_type": "execute_result"
    }
   ],
   "source": [
    "import pandas as pd\n",
    "ab_test_increments = 42\n",
    "expected_runtime_decision = 21\n",
    "alpha=.1\n",
    "kwargs_no_effect = {\n",
    "    \"n_ab_tests\": 1000,\n",
    "    \"n_samples_per_increment\": 1000,\n",
    "    \"n_increments\": ab_test_increments,\n",
    "    \"mean_a\": .05,\n",
    "    \"mean_b\": .05,\n",
    "}\n",
    "\n",
    "pd.DataFrame(simulate_n_decisions(\n",
    "    decision_rule=FixedHorizonDecisionRule,\n",
    "    decision_rule_kwargs={\"expected_runtime\": expected_runtime_decision, \"alpha\": alpha},\n",
    "    plot_title=None,\n",
    "    **kwargs_no_effect\n",
    "))[\"DECISION\"].value_counts()"
   ]
  },
  {
   "cell_type": "code",
   "execution_count": 7,
   "id": "62028217-8c7b-455a-b0f5-e8dad18f523e",
   "metadata": {},
   "outputs": [
    {
     "data": {
      "application/vnd.jupyter.widget-view+json": {
       "model_id": "522ce1e405a445fdaad04869fb3d88cc",
       "version_major": 2,
       "version_minor": 0
      },
      "text/plain": [
       "  0%|          | 0/1000 [00:00<?, ?it/s]"
      ]
     },
     "metadata": {},
     "output_type": "display_data"
    },
    {
     "data": {
      "text/plain": [
       "STOP INCONCLUSIVE    811\n",
       "STOP REJECT NULL     189\n",
       "Name: DECISION, dtype: int64"
      ]
     },
     "execution_count": 7,
     "metadata": {},
     "output_type": "execute_result"
    }
   ],
   "source": [
    "pd.DataFrame(simulate_n_decisions(\n",
    "    decision_rule=FixedHorizonDecisionRuleExtend,\n",
    "    decision_rule_kwargs={\n",
    "        \"expected_runtime\": expected_runtime_decision,\n",
    "        \"alpha\": alpha,\n",
    "        \"extension_interval\": 2,\n",
    "        \"extension_periods\": 7,\n",
    "    },\n",
    "    plot_title=None,\n",
    "    **kwargs_no_effect\n",
    "))[\"DECISION\"].value_counts()"
   ]
  },
  {
   "cell_type": "code",
   "execution_count": 8,
   "id": "18629076-5369-4ca5-8dbb-7cb44d2a1279",
   "metadata": {},
   "outputs": [
    {
     "data": {
      "application/vnd.jupyter.widget-view+json": {
       "model_id": "b8702f2f2923493b9d3bcbcfc4a9c4a1",
       "version_major": 2,
       "version_minor": 0
      },
      "text/plain": [
       "  0%|          | 0/1000 [00:00<?, ?it/s]"
      ]
     },
     "metadata": {},
     "output_type": "display_data"
    },
    {
     "data": {
      "text/plain": [
       "STOP INCONCLUSIVE    587\n",
       "STOP REJECT NULL     413\n",
       "Name: DECISION, dtype: int64"
      ]
     },
     "execution_count": 8,
     "metadata": {},
     "output_type": "execute_result"
    }
   ],
   "source": [
    "pd.DataFrame(simulate_n_decisions(\n",
    "    decision_rule=FixedHorizonDecisionRuleWithPeek,\n",
    "    decision_rule_kwargs={\n",
    "        \"expected_runtime\": expected_runtime_decision,\n",
    "        \"alpha\": alpha,\n",
    "    },\n",
    "    plot_title=None,\n",
    "    **kwargs_no_effect\n",
    "))[\"DECISION\"].value_counts()"
   ]
  },
  {
   "cell_type": "code",
   "execution_count": 9,
   "id": "bda76b09-6e91-41c5-8f6e-dd8f01888889",
   "metadata": {},
   "outputs": [
    {
     "data": {
      "application/vnd.jupyter.widget-view+json": {
       "model_id": "f501d2a555ae4391bbe3ebb0e3cb97a0",
       "version_major": 2,
       "version_minor": 0
      },
      "text/plain": [
       "  0%|          | 0/1000 [00:00<?, ?it/s]"
      ]
     },
     "metadata": {},
     "output_type": "display_data"
    },
    {
     "data": {
      "text/plain": [
       "STOP INCONCLUSIVE    807\n",
       "STOP REJECT NULL     193\n",
       "Name: DECISION, dtype: int64"
      ]
     },
     "execution_count": 9,
     "metadata": {},
     "output_type": "execute_result"
    }
   ],
   "source": [
    "pd.DataFrame(simulate_n_decisions(\n",
    "    decision_rule=FixedHorizonDecisionRuleWithPeek,\n",
    "    decision_rule_kwargs={\n",
    "        \"expected_runtime\": expected_runtime_decision,\n",
    "        \"alpha\": alpha,\n",
    "        \"peeking_interval\": 7\n",
    "    },\n",
    "    plot_title=None,\n",
    "    **kwargs_no_effect\n",
    "))[\"DECISION\"].value_counts()"
   ]
  },
  {
   "cell_type": "code",
   "execution_count": 10,
   "id": "3e8dc2e0-ead9-4b3f-b9b8-55383a461820",
   "metadata": {},
   "outputs": [
    {
     "data": {
      "application/vnd.jupyter.widget-view+json": {
       "model_id": "d17f58bb1b2b4eff97337fc46682b6d8",
       "version_major": 2,
       "version_minor": 0
      },
      "text/plain": [
       "  0%|          | 0/1000 [00:00<?, ?it/s]"
      ]
     },
     "metadata": {},
     "output_type": "display_data"
    },
    {
     "data": {
      "text/plain": [
       "STOP INCONCLUSIVE    888\n",
       "STOP REJECT NULL     112\n",
       "Name: DECISION, dtype: int64"
      ]
     },
     "execution_count": 10,
     "metadata": {},
     "output_type": "execute_result"
    }
   ],
   "source": [
    "kwargs_small_positive_effect = {\n",
    "    \"n_ab_tests\": 1000,\n",
    "    \"n_samples_per_increment\": 1000,\n",
    "    \"n_increments\": ab_test_increments,\n",
    "    \"mean_a\": .05,\n",
    "    \"mean_b\": .0505,\n",
    "}\n",
    "\n",
    "pd.DataFrame(simulate_n_decisions(\n",
    "    decision_rule=FixedHorizonDecisionRule,\n",
    "    decision_rule_kwargs={\"expected_runtime\": expected_runtime_decision, \"alpha\": alpha},\n",
    "    plot_title=None,\n",
    "    **kwargs_small_positive_effect\n",
    "))[\"DECISION\"].value_counts()"
   ]
  },
  {
   "cell_type": "code",
   "execution_count": 11,
   "id": "5ed94931-ee78-442c-a88b-8c25a160f461",
   "metadata": {},
   "outputs": [
    {
     "data": {
      "application/vnd.jupyter.widget-view+json": {
       "model_id": "1afc5341d8344b1faf0c028d48d0135a",
       "version_major": 2,
       "version_minor": 0
      },
      "text/plain": [
       "  0%|          | 0/1000 [00:00<?, ?it/s]"
      ]
     },
     "metadata": {},
     "output_type": "display_data"
    },
    {
     "data": {
      "text/plain": [
       "STOP INCONCLUSIVE    812\n",
       "STOP REJECT NULL     188\n",
       "Name: DECISION, dtype: int64"
      ]
     },
     "execution_count": 11,
     "metadata": {},
     "output_type": "execute_result"
    }
   ],
   "source": [
    "pd.DataFrame(simulate_n_decisions(\n",
    "    decision_rule=FixedHorizonDecisionRuleExtend,\n",
    "    decision_rule_kwargs={\n",
    "        \"expected_runtime\": expected_runtime_decision,\n",
    "        \"alpha\": alpha,\n",
    "        \"extension_interval\": 2,\n",
    "        \"extension_periods\": 7,\n",
    "    },\n",
    "    plot_title=None,\n",
    "    **kwargs_small_positive_effect\n",
    "))[\"DECISION\"].value_counts()"
   ]
  },
  {
   "cell_type": "code",
   "execution_count": 12,
   "id": "f743abd7-fccb-4999-b799-7565652cc65d",
   "metadata": {},
   "outputs": [
    {
     "data": {
      "application/vnd.jupyter.widget-view+json": {
       "model_id": "654ef390aa2f426e914e566160eed508",
       "version_major": 2,
       "version_minor": 0
      },
      "text/plain": [
       "  0%|          | 0/1000 [00:00<?, ?it/s]"
      ]
     },
     "metadata": {},
     "output_type": "display_data"
    },
    {
     "data": {
      "text/plain": [
       "STOP INCONCLUSIVE    566\n",
       "STOP REJECT NULL     434\n",
       "Name: DECISION, dtype: int64"
      ]
     },
     "execution_count": 12,
     "metadata": {},
     "output_type": "execute_result"
    }
   ],
   "source": [
    "pd.DataFrame(simulate_n_decisions(\n",
    "    decision_rule=FixedHorizonDecisionRuleWithPeek,\n",
    "    decision_rule_kwargs={\"expected_runtime\": expected_runtime_decision, \"alpha\": alpha},\n",
    "    plot_title=None,\n",
    "    **kwargs_small_positive_effect\n",
    "))[\"DECISION\"].value_counts()"
   ]
  },
  {
   "cell_type": "code",
   "execution_count": 13,
   "id": "7ede2330-915d-46b4-bec6-dcd750cc8e8f",
   "metadata": {},
   "outputs": [
    {
     "data": {
      "application/vnd.jupyter.widget-view+json": {
       "model_id": "71ae6c408369447a8d0664fa04139b8c",
       "version_major": 2,
       "version_minor": 0
      },
      "text/plain": [
       "  0%|          | 0/1000 [00:00<?, ?it/s]"
      ]
     },
     "metadata": {},
     "output_type": "display_data"
    },
    {
     "data": {
      "text/plain": [
       "STOP INCONCLUSIVE    778\n",
       "STOP REJECT NULL     222\n",
       "Name: DECISION, dtype: int64"
      ]
     },
     "execution_count": 13,
     "metadata": {},
     "output_type": "execute_result"
    }
   ],
   "source": [
    "pd.DataFrame(simulate_n_decisions(\n",
    "    decision_rule=FixedHorizonDecisionRuleWithPeek,\n",
    "    decision_rule_kwargs={\"expected_runtime\": expected_runtime_decision, \"alpha\": alpha, \"peeking_interval\": 7},\n",
    "    plot_title=None,\n",
    "    **kwargs_small_positive_effect\n",
    "))[\"DECISION\"].value_counts()"
   ]
  },
  {
   "cell_type": "code",
   "execution_count": 14,
   "id": "f8561ba9-d4b2-405a-b2b7-3c14543d6e8a",
   "metadata": {},
   "outputs": [
    {
     "data": {
      "application/vnd.jupyter.widget-view+json": {
       "model_id": "8d8b028c6dc34a018b1c05106cb4003c",
       "version_major": 2,
       "version_minor": 0
      },
      "text/plain": [
       "  0%|          | 0/1000 [00:00<?, ?it/s]"
      ]
     },
     "metadata": {},
     "output_type": "display_data"
    },
    {
     "data": {
      "text/plain": [
       "STOP REJECT NULL     719\n",
       "STOP INCONCLUSIVE    281\n",
       "Name: DECISION, dtype: int64"
      ]
     },
     "execution_count": 14,
     "metadata": {},
     "output_type": "execute_result"
    }
   ],
   "source": [
    "kwargs_big_positive_effect = {\n",
    "    \"n_ab_tests\": 1000,\n",
    "    \"n_samples_per_increment\": 1000,\n",
    "    \"n_increments\": ab_test_increments,\n",
    "    \"mean_a\": .05,\n",
    "    \"mean_b\": .055,\n",
    "}\n",
    "\n",
    "pd.DataFrame(simulate_n_decisions(\n",
    "    decision_rule=FixedHorizonDecisionRule,\n",
    "    decision_rule_kwargs={\"expected_runtime\": expected_runtime_decision, \"alpha\": alpha},\n",
    "    plot_title=None,\n",
    "    **kwargs_big_positive_effect\n",
    "))[\"DECISION\"].value_counts()"
   ]
  },
  {
   "cell_type": "code",
   "execution_count": 15,
   "id": "b1673496-c57f-4e5c-a649-314aa730c2e0",
   "metadata": {},
   "outputs": [
    {
     "data": {
      "application/vnd.jupyter.widget-view+json": {
       "model_id": "739c6530f63a48b0adfa936aee9fb043",
       "version_major": 2,
       "version_minor": 0
      },
      "text/plain": [
       "  0%|          | 0/1000 [00:00<?, ?it/s]"
      ]
     },
     "metadata": {},
     "output_type": "display_data"
    },
    {
     "data": {
      "text/plain": [
       "STOP REJECT NULL     923\n",
       "STOP INCONCLUSIVE     77\n",
       "Name: DECISION, dtype: int64"
      ]
     },
     "execution_count": 15,
     "metadata": {},
     "output_type": "execute_result"
    }
   ],
   "source": [
    "pd.DataFrame(simulate_n_decisions(\n",
    "    decision_rule=FixedHorizonDecisionRuleExtend,\n",
    "    decision_rule_kwargs={\n",
    "        \"expected_runtime\": expected_runtime_decision,\n",
    "        \"alpha\": alpha,\n",
    "        \"extension_interval\": 2,\n",
    "        \"extension_periods\": 7,\n",
    "    },\n",
    "    plot_title=None,\n",
    "    **kwargs_big_positive_effect\n",
    "))[\"DECISION\"].value_counts()"
   ]
  },
  {
   "cell_type": "code",
   "execution_count": 16,
   "id": "269b722c-7679-461a-af79-cf52628483fb",
   "metadata": {},
   "outputs": [
    {
     "data": {
      "application/vnd.jupyter.widget-view+json": {
       "model_id": "6070c1a9dd544cfd8c10abb22d6e27f3",
       "version_major": 2,
       "version_minor": 0
      },
      "text/plain": [
       "  0%|          | 0/1000 [00:00<?, ?it/s]"
      ]
     },
     "metadata": {},
     "output_type": "display_data"
    },
    {
     "data": {
      "text/plain": [
       "STOP REJECT NULL     860\n",
       "STOP INCONCLUSIVE    140\n",
       "Name: DECISION, dtype: int64"
      ]
     },
     "execution_count": 16,
     "metadata": {},
     "output_type": "execute_result"
    }
   ],
   "source": [
    "pd.DataFrame(simulate_n_decisions(\n",
    "    decision_rule=FixedHorizonDecisionRuleWithPeek,\n",
    "    decision_rule_kwargs={\"expected_runtime\": expected_runtime_decision, \"alpha\": alpha},\n",
    "    plot_title=None,\n",
    "    **kwargs_big_positive_effect\n",
    "))[\"DECISION\"].value_counts()"
   ]
  },
  {
   "cell_type": "code",
   "execution_count": 17,
   "id": "7b61eee9-1c2d-4750-9dda-d73052650ee7",
   "metadata": {},
   "outputs": [
    {
     "data": {
      "application/vnd.jupyter.widget-view+json": {
       "model_id": "6e2dc4115fef4a7b8a1bd658fc22dfd6",
       "version_major": 2,
       "version_minor": 0
      },
      "text/plain": [
       "  0%|          | 0/1000 [00:00<?, ?it/s]"
      ]
     },
     "metadata": {},
     "output_type": "display_data"
    },
    {
     "data": {
      "text/plain": [
       "STOP REJECT NULL     802\n",
       "STOP INCONCLUSIVE    198\n",
       "Name: DECISION, dtype: int64"
      ]
     },
     "execution_count": 17,
     "metadata": {},
     "output_type": "execute_result"
    }
   ],
   "source": [
    "pd.DataFrame(simulate_n_decisions(\n",
    "    decision_rule=FixedHorizonDecisionRuleWithPeek,\n",
    "    decision_rule_kwargs={\"expected_runtime\": expected_runtime_decision, \"alpha\": alpha, \"peeking_interval\": 7},\n",
    "    plot_title=None,\n",
    "    **kwargs_big_positive_effect\n",
    "))[\"DECISION\"].value_counts()"
   ]
  }
 ],
 "metadata": {
  "kernelspec": {
   "display_name": "Python 3 (ipykernel)",
   "language": "python",
   "name": "python3"
  },
  "language_info": {
   "codemirror_mode": {
    "name": "ipython",
    "version": 3
   },
   "file_extension": ".py",
   "mimetype": "text/x-python",
   "name": "python",
   "nbconvert_exporter": "python",
   "pygments_lexer": "ipython3",
   "version": "3.10.8"
  }
 },
 "nbformat": 4,
 "nbformat_minor": 5
}
