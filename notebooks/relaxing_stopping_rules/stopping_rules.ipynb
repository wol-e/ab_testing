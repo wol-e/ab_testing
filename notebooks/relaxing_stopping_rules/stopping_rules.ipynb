{
 "cells": [
  {
   "cell_type": "code",
   "execution_count": 1,
   "id": "766a049b-fd73-4baf-82aa-05732c76003e",
   "metadata": {},
   "outputs": [],
   "source": [
    "import matplotlib.pyplot as plt\n",
    "import numpy as np\n",
    "import pandas as pd\n",
    "\n",
    "from scipy.stats import norm\n",
    "from tqdm.notebook import tqdm"
   ]
  },
  {
   "cell_type": "code",
   "execution_count": 2,
   "id": "5cd23961-1628-4379-967f-07e222ac928c",
   "metadata": {},
   "outputs": [],
   "source": [
    "#work around all those python directory crazyness in order to access the ab_testing module\n",
    "import os\n",
    "import sys\n",
    "import inspect\n",
    "\n",
    "currentdir = os.path.dirname(os.path.abspath(inspect.getfile(inspect.currentframe())))\n",
    "parentdir = os.path.dirname(currentdir)\n",
    "sys.path.insert(0, parentdir)\n",
    "\n",
    "from ab_testing.stratification import stratified_ttest, get_stratified_statistics"
   ]
  },
  {
   "cell_type": "markdown",
   "id": "a4b8d9f8-320b-4cb5-aaf7-e2d590fbbccf",
   "metadata": {},
   "source": [
    "# Effect of relaxed stopping rules on fixed horizon tests\n",
    "\n",
    "In this notebook we investigate the following question:\n",
    "\n",
    "When performing a fixed horizon null hypothesis test with relaxed stopping rules (e.g. peeking nd early stopping) what is the effect on the various error rates like false positives, false negatives, sign errors etc."
   ]
  },
  {
   "cell_type": "code",
   "execution_count": 3,
   "id": "6caaa809-f2a1-4344-80f8-09e12820a74d",
   "metadata": {},
   "outputs": [],
   "source": [
    "from decision_rules import (\n",
    "    FixedHorizonDecisionRule,\n",
    "    FixedHorizonDecisionRuleContinuousPeek\n",
    ")\n",
    "from simulate import simulate_ab_test_data_binom, ABTestData"
   ]
  },
  {
   "cell_type": "code",
   "execution_count": 28,
   "id": "d1a0f421-a076-4fae-a83c-b68569a9df51",
   "metadata": {},
   "outputs": [],
   "source": [
    "# check \n",
    "\n",
    "data = simulate_ab_test_data_binom(n_samples_per_increment=100, n_increments=10, mean_a=.5, mean_b=.55)"
   ]
  },
  {
   "cell_type": "code",
   "execution_count": 5,
   "id": "e8f399f1-3585-4613-9379-4cfb653d5ff2",
   "metadata": {},
   "outputs": [
    {
     "data": {
      "text/plain": [
       "(None, None, 'CONTINUE')"
      ]
     },
     "execution_count": 5,
     "metadata": {},
     "output_type": "execute_result"
    }
   ],
   "source": [
    "d = FixedHorizonDecisionRule(data, expected_runtime=14, alpha=.1)\n",
    "\n",
    "d.t, d.p, d.decision"
   ]
  },
  {
   "cell_type": "code",
   "execution_count": 29,
   "id": "1edf430f-e15b-4c64-9a04-63887fc07daf",
   "metadata": {},
   "outputs": [
    {
     "data": {
      "text/plain": [
       "(-0.9393977732088552, 0.3476401051237612, 'CONTINUE')"
      ]
     },
     "execution_count": 29,
     "metadata": {},
     "output_type": "execute_result"
    }
   ],
   "source": [
    "d = FixedHorizonDecisionRuleContinuousPeek(data, expected_runtime=14, alpha=.1)\n",
    "\n",
    "d.t, d.p, d.decision"
   ]
  }
 ],
 "metadata": {
  "kernelspec": {
   "display_name": "Python 3 (ipykernel)",
   "language": "python",
   "name": "python3"
  },
  "language_info": {
   "codemirror_mode": {
    "name": "ipython",
    "version": 3
   },
   "file_extension": ".py",
   "mimetype": "text/x-python",
   "name": "python",
   "nbconvert_exporter": "python",
   "pygments_lexer": "ipython3",
   "version": "3.10.8"
  }
 },
 "nbformat": 4,
 "nbformat_minor": 5
}
