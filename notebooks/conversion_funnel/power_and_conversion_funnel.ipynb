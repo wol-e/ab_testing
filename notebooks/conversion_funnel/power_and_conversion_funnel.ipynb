{
 "cells": [
  {
   "cell_type": "markdown",
   "id": "14b32e4e-a1eb-468e-835a-73fe24cebf68",
   "metadata": {},
   "source": [
    "# Power and Conversion Funnel\n",
    "\n",
    "When running experiments on conversion optimiztion one can either measure the impact on overall conversion rate or alternatively measure the impact on CTR throughout the several steps in the fubnnel. Here, I want to explore what the difference in power is for these methods"
   ]
  },
  {
   "cell_type": "code",
   "execution_count": 1,
   "id": "26550a37-e72b-47ce-9203-32e88d86785e",
   "metadata": {},
   "outputs": [],
   "source": [
    "import numpy as np\n",
    "\n",
    "from statsmodels.stats.power import TTestPower"
   ]
  },
  {
   "cell_type": "code",
   "execution_count": 2,
   "id": "370567b6-00e5-4e8b-ae03-963e366b0e6d",
   "metadata": {},
   "outputs": [],
   "source": [
    "def get_power(mean: float, nobs: int, alternative='two-sided', alpha: float=0.5):\n",
    "    \"\"\"\n",
    "    Based on bernoulli distribution\n",
    "    \"\"\"\n",
    "    t = TTestPower()\n",
    "    return t.power(\n",
    "           effect_size = mean / np.sqrt(mean * (1 - mean)),\n",
    "        nobs=nobs,\n",
    "        alpha=alpha,\n",
    "        alternative=alternative\n",
    "    )"
   ]
  },
  {
   "cell_type": "code",
   "execution_count": 3,
   "id": "daaf6176-8edb-4e68-a82e-8ccea2af739f",
   "metadata": {},
   "outputs": [
    {
     "data": {
      "text/plain": [
       "0.6859282400085758"
      ]
     },
     "execution_count": 3,
     "metadata": {},
     "output_type": "execute_result"
    }
   ],
   "source": [
    "get_power(mean=.1, nobs=10)"
   ]
  },
  {
   "cell_type": "code",
   "execution_count": 4,
   "id": "21465f50-c9db-4eaa-9816-5788d7abf0e2",
   "metadata": {},
   "outputs": [
    {
     "name": "stdout",
     "output_type": "stream",
     "text": [
      "Help on method solve_power in module statsmodels.stats.power:\n",
      "\n",
      "solve_power(effect_size=None, nobs1=None, alpha=None, power=None, ratio=1.0, alternative='two-sided') method of statsmodels.stats.power.TTestIndPower instance\n",
      "    solve for any one parameter of the power of a two sample t-test\n",
      "    \n",
      "    for t-test the keywords are:\n",
      "        effect_size, nobs1, alpha, power, ratio\n",
      "    \n",
      "    exactly one needs to be ``None``, all others need numeric values\n",
      "    \n",
      "    Parameters\n",
      "    ----------\n",
      "    effect_size : float\n",
      "        standardized effect size, difference between the two means divided\n",
      "        by the standard deviation. `effect_size` has to be positive.\n",
      "    nobs1 : int or float\n",
      "        number of observations of sample 1. The number of observations of\n",
      "        sample two is ratio times the size of sample 1,\n",
      "        i.e. ``nobs2 = nobs1 * ratio``\n",
      "    alpha : float in interval (0,1)\n",
      "        significance level, e.g. 0.05, is the probability of a type I\n",
      "        error, that is wrong rejections if the Null Hypothesis is true.\n",
      "    power : float in interval (0,1)\n",
      "        power of the test, e.g. 0.8, is one minus the probability of a\n",
      "        type II error. Power is the probability that the test correctly\n",
      "        rejects the Null Hypothesis if the Alternative Hypothesis is true.\n",
      "    ratio : float\n",
      "        ratio of the number of observations in sample 2 relative to\n",
      "        sample 1. see description of nobs1\n",
      "        The default for ratio is 1; to solve for ratio given the other\n",
      "        arguments it has to be explicitly set to None.\n",
      "    alternative : str, 'two-sided' (default), 'larger', 'smaller'\n",
      "        extra argument to choose whether the power is calculated for a\n",
      "        two-sided (default) or one sided test. The one-sided test can be\n",
      "        either 'larger', 'smaller'.\n",
      "    \n",
      "    Returns\n",
      "    -------\n",
      "    value : float\n",
      "        The value of the parameter that was set to None in the call. The\n",
      "        value solves the power equation given the remaining parameters.\n",
      "    \n",
      "    \n",
      "    Notes\n",
      "    -----\n",
      "    The function uses scipy.optimize for finding the value that satisfies\n",
      "    the power equation. It first uses ``brentq`` with a prior search for\n",
      "    bounds. If this fails to find a root, ``fsolve`` is used. If ``fsolve``\n",
      "    also fails, then, for ``alpha``, ``power`` and ``effect_size``,\n",
      "    ``brentq`` with fixed bounds is used. However, there can still be cases\n",
      "    where this fails.\n",
      "\n"
     ]
    }
   ],
   "source": [
    "from statsmodels.stats.power import tt_ind_solve_power\n",
    "\n",
    "help(tt_ind_solve_power)"
   ]
  },
  {
   "cell_type": "code",
   "execution_count": 52,
   "id": "c3512232-41cc-4b5b-a124-992d0c97e4e9",
   "metadata": {},
   "outputs": [
    {
     "data": {
      "text/plain": [
       "{'users1': 20000,\n",
       " 'users2': 20000,\n",
       " 'expected_users_per_step1': [10000, 1000, 100],\n",
       " 'expected_users_per_step2': [10000, 1000, 120],\n",
       " 'funnel_ctr1': [0.5, 0.1, 0.1],\n",
       " 'funnel_ctr2': [0.5, 0.1, 0.12],\n",
       " 'conversion_rate_topline_to_step1': [0.5, 0.05, 0.005000000000000001],\n",
       " 'conversion_rate_topline_to_step2': [0.5, 0.05, 0.006],\n",
       " 'power_conversion_rate_topline_to_step': [0.05, 0.05, 0.272],\n",
       " 'power_ctr_by_step': [0.05, 0.05, 0.298]}"
      ]
     },
     "execution_count": 52,
     "metadata": {},
     "output_type": "execute_result"
    }
   ],
   "source": [
    "from typing import List\n",
    "def analyze_conversion_funnel_experiment(\n",
    "    nobs: int,\n",
    "    funnel_ctr: List[float],\n",
    "    funnel_performance: List[float],\n",
    "    alpha=.05\n",
    "):\n",
    "    \"\"\"\n",
    "    nobs: number of total users in test\n",
    "    funnel_means: list of clickthrough rates in the funnel,\n",
    "        the length implicitly defines the number of steps in the funnel\n",
    "    funnel_performance: list of relative increase in ctr per funnel step,\n",
    "        e.g. [.1, .1, .1] means for every step in the funnel there is an increase of 10% in ctr\n",
    "    \"\"\"\n",
    "    share = .5\n",
    "\n",
    "    nobs1 = int(nobs * (1 - share))\n",
    "    nobs2 = int(nobs * (share))\n",
    "    \n",
    "    funnel_ctr1 = funnel_ctr\n",
    "    funnel_ctr2 = [ctr * (1 + funnel_performance[i]) for i, ctr in enumerate(funnel_ctr1)]\n",
    "    \n",
    "    def get_funnel_metrics(nobs, funnel_ctr):\n",
    "        conversion_rate = 1  # conversion rate from topline to funnel step\n",
    "        conversion_funnel_steps = []  # conversion rates from topline to step in funnel\n",
    "        users_converted = []  # estimated total number of users that get up to funnel step\n",
    "\n",
    "        for step_conversion in funnel_ctr:\n",
    "            conversion_rate *= step_conversion \n",
    "            conversion_funnel_steps.append(conversion_rate)\n",
    "            users_converted.append(int(round(conversion_rate * nobs, 0)))\n",
    "    \n",
    "        return conversion_funnel_steps, users_converted\n",
    "\n",
    "    conversion_funnel_steps1, users_converted1 = get_funnel_metrics(nobs1, funnel_ctr1)\n",
    "    conversion_funnel_steps2, users_converted2 = get_funnel_metrics(nobs2, funnel_ctr2)\n",
    "    \n",
    "    power_conversion_rate_topline_to_step = [\n",
    "        round(tt_ind_solve_power(\n",
    "            nobs1 = nobs1,\n",
    "            ratio = nobs2 / nobs1,\n",
    "            alpha = alpha,\n",
    "            effect_size = (cr2 - cr1) / (\n",
    "                    np.sqrt(.5 * (cr2 * (1 - cr2) + cr1 * (1 - cr1)))\n",
    "            )\n",
    "        ), 3) for cr1, cr2 in zip(conversion_funnel_steps1, conversion_funnel_steps2)\n",
    "    ]\n",
    "    \n",
    "    def get_user_at_funnel_start(variant, step):\n",
    "        return (users_converted1[step - 1] if step > 0 else nobs1) if variant == 1 else (\n",
    "            users_converted2[step - 1] if step > 0 else nobs2\n",
    "        )\n",
    "    \n",
    "    power_ctr_by_step = [\n",
    "        round(tt_ind_solve_power(\n",
    "            nobs1 = get_user_at_funnel_start(1, i),\n",
    "            ratio = get_user_at_funnel_start(2, i) / get_user_at_funnel_start(1, i),\n",
    "            alpha = alpha,\n",
    "            effect_size = (ctr2 - ctr1) / (\n",
    "                    np.sqrt(.5 * (ctr2 * (1 - ctr2) + ctr1 * (1 - ctr1)))\n",
    "            )\n",
    "        ), 3) for i, (ctr1, ctr2) in enumerate(zip(funnel_ctr1, funnel_ctr2))\n",
    "    ]\n",
    "        \n",
    "    return {\n",
    "        \"users1\": nobs1,\n",
    "        \"users2\": nobs2,\n",
    "        \"expected_users_per_step1\": users_converted1,\n",
    "        \"expected_users_per_step2\": users_converted2,\n",
    "        \"funnel_ctr1\": funnel_ctr1,\n",
    "        \"funnel_ctr2\": funnel_ctr2,\n",
    "        \"conversion_rate_topline_to_step1\": conversion_funnel_steps1,\n",
    "        \"conversion_rate_topline_to_step2\": conversion_funnel_steps2,\n",
    "        \"power_conversion_rate_topline_to_step\": power_conversion_rate_topline_to_step,\n",
    "        \"power_ctr_by_step\": power_ctr_by_step,\n",
    "    }\n",
    "\n",
    "\n",
    "    \n",
    "analyze_conversion_funnel_experiment(\n",
    "    nobs=40000,\n",
    "    funnel_ctr=[.5, .1, .1],\n",
    "    funnel_performance=[.0, .0, .2],\n",
    ")  # example validated with external power calculator\n",
    "\n"
   ]
  },
  {
   "cell_type": "code",
   "execution_count": 85,
   "id": "3f763a07-427b-4bfe-b67f-cd5e2ee0d680",
   "metadata": {},
   "outputs": [
    {
     "data": {
      "text/plain": [
       "{'users1': 5000000,\n",
       " 'users2': 5000000,\n",
       " 'expected_users_per_step1': [50000, 10000, 5000],\n",
       " 'expected_users_per_step2': [50000, 10000, 5100],\n",
       " 'funnel_ctr1': [0.01, 0.2, 0.5],\n",
       " 'funnel_ctr2': [0.01, 0.2, 0.51],\n",
       " 'conversion_rate_topline_to_step1': [0.01, 0.002, 0.001],\n",
       " 'conversion_rate_topline_to_step2': [0.01, 0.002, 0.00102],\n",
       " 'power_conversion_rate_topline_to_step': [0.05, 0.05, 0.169],\n",
       " 'power_ctr_by_step': [0.05, 0.05, 0.293]}"
      ]
     },
     "execution_count": 85,
     "metadata": {},
     "output_type": "execute_result"
    }
   ],
   "source": [
    "analyze_conversion_funnel_experiment(\n",
    "    nobs=10000000,\n",
    "    funnel_ctr=[.01, .2, .5],\n",
    "    funnel_performance=[.0, .0, .02],\n",
    ")"
   ]
  },
  {
   "cell_type": "code",
   "execution_count": 77,
   "id": "16422238-2d44-4c69-85ff-f180d3b584f9",
   "metadata": {},
   "outputs": [
    {
     "data": {
      "text/plain": [
       "{'users1': 2000000,\n",
       " 'users2': 2000000,\n",
       " 'expected_users_per_step1': [200000, 4000, 1200],\n",
       " 'expected_users_per_step2': [200000, 4400, 1320],\n",
       " 'funnel_ctr1': [0.1, 0.02, 0.3],\n",
       " 'funnel_ctr2': [0.1, 0.022000000000000002, 0.3],\n",
       " 'conversion_rate_topline_to_step1': [0.1, 0.002, 0.0006],\n",
       " 'conversion_rate_topline_to_step2': [0.1, 0.0022, 0.00066],\n",
       " 'power_conversion_rate_topline_to_step': [0.05, 0.992, 0.667],\n",
       " 'power_ctr_by_step': [0.05, 0.993, 0.05]}"
      ]
     },
     "execution_count": 77,
     "metadata": {},
     "output_type": "execute_result"
    }
   ],
   "source": [
    "analyze_conversion_funnel_experiment(\n",
    "    nobs=4000000,\n",
    "    funnel_ctr=[.1, .02, .3],\n",
    "    funnel_performance=[.0, .1, .0],\n",
    ")"
   ]
  }
 ],
 "metadata": {
  "kernelspec": {
   "display_name": "Python 3 (ipykernel)",
   "language": "python",
   "name": "python3"
  },
  "language_info": {
   "codemirror_mode": {
    "name": "ipython",
    "version": 3
   },
   "file_extension": ".py",
   "mimetype": "text/x-python",
   "name": "python",
   "nbconvert_exporter": "python",
   "pygments_lexer": "ipython3",
   "version": "3.10.6"
  }
 },
 "nbformat": 4,
 "nbformat_minor": 5
}
